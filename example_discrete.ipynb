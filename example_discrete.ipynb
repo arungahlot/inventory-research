{
 "cells": [
  {
   "cell_type": "code",
   "execution_count": 1,
   "metadata": {
    "collapsed": false
   },
   "outputs": [],
   "source": [
    "from __future__ import division\n",
    "\n",
    "import logging\n",
    "from math import sqrt,ceil\n",
    "from operator import itemgetter\n",
    "\n",
    "import numpy as np\n",
    "import matplotlib.pyplot as plt\n",
    "from scipy.stats import poisson, norm, rv_continuous\n",
    "\n",
    "from inventory.discrete import discreteTC\n",
    "from inventory.solvers import discreteSolver, betaSolver, gallego, kleinauGP,kleinauNum, zhengNumeric\n",
    "from inventory.utils import KLEINAU_SET as KS, ZHENG_SET as ZS, getfitcases"
   ]
  },
  {
   "cell_type": "code",
   "execution_count": 2,
   "metadata": {
    "collapsed": false
   },
   "outputs": [
    {
     "name": "stdout",
     "output_type": "stream",
     "text": [
      "135\n"
     ]
    }
   ],
   "source": [
    "backorders = True\n",
    "fitcases = getfitcases(vlist = KS, costfun=discreteTC, solver = discreteSolver, backorders = backorders) #l,h,p,K,L,sOpt,qOpt, costOpt\n",
    "print len(fitcases)"
   ]
  },
  {
   "cell_type": "code",
   "execution_count": 3,
   "metadata": {
    "collapsed": false,
    "scrolled": true
   },
   "outputs": [
    {
     "name": "stdout",
     "output_type": "stream",
     "text": [
      "0.335638347934\n"
     ]
    }
   ],
   "source": [
    "#Heuristics and Gaps to optimal - GALLEGO\n",
    "gallego_results = []\n",
    "for l, h, p, K, L, sOpt, qOpt, costOpt in fitcases:\n",
    "    sg, Qg = gallego(l*L, K, p, l, h, L, minmethod='cobyla')\n",
    "    #sg = 0 if sg <0 else int(round(sg))\n",
    "    sg = int(round(sg))\n",
    "    if not backorders and sg < 0: \n",
    "        sg = 0\n",
    "    Qg = int(round(Qg))\n",
    "    if Qg == 0: Qg = 1\n",
    "    gcost = discreteTC(sg, Qg, l*L, K, p, l, h)\n",
    "    gallego_results.append((l, h, p, K, L, sOpt, qOpt, sg,Qg, gcost, ((gcost - costOpt) / costOpt)*100))\n",
    "\n",
    "#for g in gallego_results: print g\n",
    "    \n",
    "print sum(abs(fc[-1]) for fc in gallego_results) / len(fitcases)\n",
    "    "
   ]
  },
  {
   "cell_type": "code",
   "execution_count": null,
   "metadata": {
    "collapsed": false,
    "scrolled": true
   },
   "outputs": [],
   "source": [
    "#Heuristics and Gaps to optimal - ZHENG\n",
    "zheng_results = []\n",
    "for l, h, p, K, L, sOpt, qOpt, costOpt in fitcases:\n",
    "    sk, Qk = betaSolver(l*L, K, p, l, h)\n",
    "    if not backorders and sk < 0:\n",
    "        sk = 0\n",
    "    skr = int(round(sk))\n",
    "    #must be ceil, error with round much bigger\n",
    "    Qkr = int(ceil(Qk))\n",
    "    gcost = discreteTC(skr, Qkr, l*L, K, p, l, h)\n",
    "    zheng_results.append((l, h, p, K, L, sOpt, qOpt, costOpt, sk,Qk, gcost, ((gcost - costOpt) / costOpt) * 100))\n",
    "\n",
    "#for g in zheng_results: print g\n",
    "\n",
    "print sum(abs(fc[-1]) for fc in zheng_results) / len(fitcases)"
   ]
  },
  {
   "cell_type": "code",
   "execution_count": 4,
   "metadata": {
    "collapsed": false,
    "scrolled": true
   },
   "outputs": [
    {
     "name": "stdout",
     "output_type": "stream",
     "text": [
      "0.793219670214\n"
     ]
    }
   ],
   "source": [
    "#Heuristics and Gaps to optimal - ZHENG numeric r\n",
    "zhengnum_results = []\n",
    "for l, h, p, K, L, sOpt, qOpt, costOpt in fitcases:\n",
    "    sk, Qk = zhengNumeric(l*L, K, p, l, h,L, roundmethod=ceil)\n",
    "    rd, Qd = betaSolver(l*L, K, p, l, h)\n",
    "    if not backorders and sk < 0:\n",
    "        sk = 0\n",
    "    skr = int(round(sk))\n",
    "    #with ceil, error is smaller\n",
    "    #Qk is already rounded\n",
    "    #Qdr = int(round(Qd))\n",
    "    gcost = discreteTC(skr, Qk, l*L, K, p, l, h)\n",
    "    zhengnum_results.append((l, h, p, K, L, sOpt, qOpt, costOpt, rd, sk,Qk, gcost, ((gcost - costOpt) / costOpt) * 100))\n",
    "\n",
    "#for g in zhengnum_results: print g\n",
    "    \n",
    "print sum(abs(fc[-1]) for fc in zhengnum_results) / len(fitcases)"
   ]
  },
  {
   "cell_type": "code",
   "execution_count": null,
   "metadata": {
    "collapsed": false
   },
   "outputs": [],
   "source": [
    "#Heuristics and Gaps to optimal - KLEINAU GP\n",
    "kleinaugp_results = []\n",
    "for l, h, p, K, L, sOpt, qOpt, costOpt in fitcases:\n",
    "    sk, Qk = kleinauGP(l*L, K, p, l, h,L)\n",
    "    #sg = 0 if sg <0 else int(round(sg))\n",
    "    if not backorders and sk < 0:\n",
    "        sk = 0\n",
    "    sk = int(round(sk))\n",
    "    Qk = int(round(Qk))\n",
    "    gcost = discreteTC(sk, Qk, l*L, K, p, l, h)\n",
    "    kleinaugp_results.append((l, h, p, K, L, sOpt, qOpt, costOpt, sk,Qk, gcost, ((gcost - costOpt) / costOpt)*100))\n",
    "\n",
    "#for g in kleinaugp_results: print g\n",
    "    \n",
    "print sum(fc[-1] for fc in kleinaugp_results) / len(fitcases)"
   ]
  },
  {
   "cell_type": "code",
   "execution_count": 5,
   "metadata": {
    "collapsed": false
   },
   "outputs": [
    {
     "name": "stdout",
     "output_type": "stream",
     "text": [
      "0.507748245053\n"
     ]
    }
   ],
   "source": [
    "#Heuristics and Gaps to optimal - KLEINAU NUMERIC\n",
    "kleinaunum_results = []\n",
    "for l, h, p, K, L, sOpt, qOpt, costOpt in fitcases:\n",
    "    sk, Qk = kleinauNum(l*L, K, p, l, h,L)\n",
    "    #sg = 0 if sg <0 else int(round(sg))\n",
    "    if not backorders and sk < 0:\n",
    "        sk = 0\n",
    "    sk = int(round(sk))\n",
    "    Qk = int(round(Qk))\n",
    "    gcost = discreteTC(sk, Qk, l*L, K, p, l, h)\n",
    "    kleinaunum_results.append((l, h, p, K, L, sOpt, qOpt, costOpt, sk,Qk, gcost, ((gcost - costOpt) / costOpt)*100))\n",
    "\n",
    "#for g in kleinaunum_results: print g\n",
    "    \n",
    "print sum(fc[-1] for fc in kleinaunum_results) / len(fitcases)"
   ]
  },
  {
   "cell_type": "code",
   "execution_count": 6,
   "metadata": {
    "collapsed": false,
    "scrolled": true
   },
   "outputs": [
    {
     "name": "stdout",
     "output_type": "stream",
     "text": [
      "3.76868281597\n"
     ]
    }
   ],
   "source": [
    "# Test the best individual obtained with CCGP\n",
    "import cPickle as pkl\n",
    "from operator import add, mul, sub, div\n",
    "\n",
    "from inventory.utils import protectedDiv, protectedSqrt\n",
    "sfun, qfun = pkl.load(open('data/DTkleinau_n4000s400_cxp2mutp2_35_bestinds.pkl'))\n",
    "\n",
    "ccgp_results = []\n",
    "for l, h, p, K, L, sOpt, qOpt, costOpt in fitcases:\n",
    "    lbd = l\n",
    "    k = K\n",
    "    sgp, Qgp = (eval(sfun, locals()), eval(qfun, locals())) \n",
    "    \n",
    "    sgp = int(round(sgp))\n",
    "    if not backorders and sgp < 0: sgp = 0\n",
    "    \n",
    "    Qgp = int(round(Qgp))\n",
    "    if Qgp == 0: Qgp = 1\n",
    "    \n",
    "    gcost = discreteTC(sgp, Qgp, l*L, K, p, l, h)\n",
    "    ccgp_results.append((l, h, p, K, L, sOpt, qOpt, sgp,Qgp, gcost, ((gcost - costOpt) / costOpt)*100))\n",
    "\n",
    "#for g in ccgp_results: print g\n",
    "    \n",
    "print sum(fc[-1] for fc in ccgp_results) / len(fitcases)"
   ]
  },
  {
   "cell_type": "code",
   "execution_count": 7,
   "metadata": {
    "collapsed": false
   },
   "outputs": [
    {
     "name": "stdout",
     "output_type": "stream",
     "text": [
      "[95, 113, 128, 0]\n",
      "[123, 129, 131, 0]\n",
      "[114, 130, 132, 0]\n",
      "[57, 78, 91, 24]\n",
      "(4.0152249503901443, 7.9527211088352553e-05)\n",
      "(-4.4146397873361041, 2.0141283289927709e-05)\n",
      "(-5.1190124316712549, 1.0225884287147676e-06)\n",
      "(-4.86779381165434, 3.0838168550070967e-06)\n"
     ]
    }
   ],
   "source": [
    "# test differences in the resulting gap distributions\n",
    "from functools import partial\n",
    "from itertools import imap\n",
    "from scipy.stats import describe, ttest_ind\n",
    "\n",
    "def quantify(iterable, pred=bool):\n",
    "    \"Count how many times the predicate is true\"\n",
    "    return sum(imap(pred, iterable))\n",
    "\n",
    "def lt(a = 1, b = 1):\n",
    "    return a < b\n",
    "\n",
    "def gt(a = 1, b = 1):\n",
    "    return a > b\n",
    "\n",
    "def distribution(data):\n",
    "    return [quantify(data, partial(lt, b = 1)),\n",
    "            quantify(data, partial(lt, b = 2)),\n",
    "            quantify(data, partial(lt, b = 3)),\n",
    "            quantify(data, partial(gt, b = 5))]\n",
    "\n",
    "\n",
    "zz = [x[-1] for x in zhengnum_results]\n",
    "gg = [x[-1] for x in gallego_results]\n",
    "kk = [x[-1] for x in kleinaunum_results]\n",
    "ccgp = [x[-1] for x in ccgp_results]\n",
    "\n",
    "print distribution(zz)\n",
    "print distribution(gg)\n",
    "print distribution(kk)\n",
    "print distribution(ccgp)\n",
    "\n",
    "#Gallego vs ZhengNumeric\n",
    "print ttest_ind(zz, gg, equal_var = False)\n",
    "#ZhengNumeric vs CCGP\n",
    "print ttest_ind(zz, ccgp, equal_var = False)\n",
    "#Gallego vs CCGP\n",
    "print ttest_ind(gg, ccgp, equal_var = False)\n",
    "#KleinauNumeric vs CCGP\n",
    "print ttest_ind(kk, ccgp, equal_var = False)"
   ]
  },
  {
   "cell_type": "code",
   "execution_count": null,
   "metadata": {
    "collapsed": true
   },
   "outputs": [],
   "source": []
  }
 ],
 "metadata": {
  "kernelspec": {
   "display_name": "Python 2",
   "language": "python",
   "name": "python2"
  },
  "language_info": {
   "codemirror_mode": {
    "name": "ipython",
    "version": 2
   },
   "file_extension": ".py",
   "mimetype": "text/x-python",
   "name": "python",
   "nbconvert_exporter": "python",
   "pygments_lexer": "ipython2",
   "version": "2.7.10"
  }
 },
 "nbformat": 4,
 "nbformat_minor": 0
}
